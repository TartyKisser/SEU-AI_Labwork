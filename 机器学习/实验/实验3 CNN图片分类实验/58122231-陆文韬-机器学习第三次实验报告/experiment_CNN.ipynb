{
 "cells": [
  {
   "cell_type": "markdown",
   "id": "1c1b834b",
   "metadata": {},
   "source": [
    "# Image Classification using Convolutional Neural Networks in PyTorch\n",
    "This tutorial series is a hands-on beginner-friendly introduction to deep learning using [PyTorch](https://pytorch.org), an open-source neural networks library. These tutorials take a practical and coding-focused approach. The best way to learn the material is to execute the code and experiment with it yourself."
   ]
  },
  {
   "cell_type": "markdown",
   "id": "7e58460b",
   "metadata": {},
   "source": [
    "This tutorial covers the following topics: \n",
    "\n",
    "- Understanding convolution and pooling layers\n",
    "- Creating a convolutional neural network (CNN) using PyTorch\n",
    "- Training a CNN from scratch and monitoring performance\n",
    "- Underfitting, overfitting and how to overcome them"
   ]
  },
  {
   "cell_type": "markdown",
   "id": "07b4532e",
   "metadata": {},
   "source": [
    "### How to run the code\n",
    "\n",
    "You can _run_ this tutorial and experiment with the code examples in a couple of ways: *using free online resources* (recommended) or *on your computer*.\n",
    "\n",
    "#### Option 1: Running using free online resources (1-click, recommended)\n",
    "\n",
    "The easiest way to start executing the code is to click the **Run** button at the top of this page and select **Run on Colab**. [Google Colab](https://colab.research.google.com) is a free online platform for running Jupyter notebooks using Google's cloud infrastructure.\n",
    "\n",
    "\n",
    "#### Option 2: Running on your computer locally\n",
    "\n",
    "To run the code on your computer locally, you'll need to set up [Python](https://www.python.org), download the notebook and install the required libraries. We recommend using the [Conda](https://docs.conda.io/projects/conda/en/latest/user-guide/install/) distribution of Python. Click the **Run** button at the top of this page, select the **Run Locally** option, and follow the instructions."
   ]
  },
  {
   "cell_type": "markdown",
   "id": "67f25484",
   "metadata": {},
   "source": [
    "## Exploring the CIFAR10 Dataset\n",
    "\n",
    "In this tutorial, we'll use the 10% CIFAR10 dataset, which consists of 6000 32x32 px colour images in 10 classes. Here are some sample images from the dataset:\n",
    "\n",
    "<img src=\"https://miro.medium.com/max/709/1*LyV7_xga4jUHdx4_jHk1PQ.png\" style=\"max-width:480px\">"
   ]
  },
  {
   "cell_type": "code",
   "execution_count": null,
   "id": "d8a2acef",
   "metadata": {},
   "outputs": [],
   "source": [
    "# Uncomment and run the appropriate command for your operating system, if required\n",
    "\n",
    "# Linux / Binder / Windows (No GPU)\n",
    "# !pip install numpy matplotlib torch==1.7.0+cpu torchvision==0.8.1+cpu torchaudio==0.7.0 -f https://download.pytorch.org/whl/torch_stable.html\n",
    "\n",
    "# Linux / Windows (GPU)\n",
    "# pip install torch==1.7.1+cu110 torchvision==0.8.2+cu110 torchaudio==0.7.2 -f https://download.pytorch.org/whl/torch_stable.html\n",
    " \n",
    "# MacOS (NO GPU)\n",
    "# !pip install numpy matplotlib torch torchvision torchaudio"
   ]
  },
  {
   "cell_type": "code",
   "execution_count": null,
   "id": "3a9b53ee",
   "metadata": {},
   "outputs": [],
   "source": [
    "import os\n",
    "import torch\n",
    "import torchvision\n",
    "import tarfile\n",
    "from torchvision.datasets.utils import download_url\n",
    "from torch.utils.data import random_split"
   ]
  },
  {
   "cell_type": "markdown",
   "id": "efa88302",
   "metadata": {},
   "source": [
    "The dataset is in the directory `data/cifar10`. It contains 2 folders `train` and `test`, containing the training set (5000 images) and test set (1000 images) respectively. Each of them contains 10 folders, one for each class of images. Let's verify this using `os.listdir`."
   ]
  },
  {
   "cell_type": "code",
   "execution_count": null,
   "id": "0c649f98",
   "metadata": {},
   "outputs": [],
   "source": [
    "data_dir = 'data/cifar10'\n",
    "print(os.listdir(data_dir))\n",
    "# \"On Mac, there are hidden .DS_Store files in folders. \n",
    "# In order to prevent this file from negatively impacting the training of the CNN, \n",
    "# the provided code has been modified.\"\n",
    "classes = [folder for folder in os.listdir(data_dir + \"/train\") if not folder.startswith('.')]\n",
    "\n",
    "print(classes)"
   ]
  },
  {
   "cell_type": "markdown",
   "id": "901d7c0b",
   "metadata": {},
   "source": [
    "The above directory structure (one folder per class) is used by many computer vision datasets, and most deep learning libraries provide utilites for working with such datasets. We can use the `ImageFolder` class from `torchvision` to load the data as PyTorch tensors."
   ]
  },
  {
   "cell_type": "code",
   "execution_count": null,
   "id": "60cec4cd",
   "metadata": {},
   "outputs": [],
   "source": [
    "from torchvision.datasets import ImageFolder\n",
    "from torchvision.transforms import ToTensor"
   ]
  },
  {
   "cell_type": "code",
   "execution_count": null,
   "id": "b6bdd143",
   "metadata": {},
   "outputs": [],
   "source": [
    "dataset = ImageFolder(data_dir+'/train', transform=ToTensor())\n"
   ]
  },
  {
   "cell_type": "markdown",
   "id": "863ef105",
   "metadata": {},
   "source": [
    "Let's look at a sample element from the training dataset. Each element is a tuple, containing a image tensor and a label. Since the data consists of 32x32 px color images with 3 channels (RGB), each image tensor has the shape `(3, 32, 32)`."
   ]
  },
  {
   "cell_type": "code",
   "execution_count": null,
   "id": "f8982984",
   "metadata": {},
   "outputs": [],
   "source": [
    "img, label = dataset[0]\n",
    "print(img.shape, label)\n",
    "img"
   ]
  },
  {
   "cell_type": "markdown",
   "id": "50f8d153",
   "metadata": {},
   "source": [
    "The list of classes is stored in the `.classes` property of the dataset. The numeric label for each element corresponds to index of the element's label in the list of classes."
   ]
  },
  {
   "cell_type": "code",
   "execution_count": null,
   "id": "76d73038",
   "metadata": {},
   "outputs": [],
   "source": [
    "print(dataset.classes)"
   ]
  },
  {
   "cell_type": "markdown",
   "id": "ceb64655",
   "metadata": {},
   "source": [
    "We can view the image using `matplotlib`, but we need to change the tensor dimensions to `(32,32,3)`. Let's create a helper function to display an image and its label."
   ]
  },
  {
   "cell_type": "code",
   "execution_count": null,
   "id": "3e826b83",
   "metadata": {},
   "outputs": [],
   "source": [
    "import matplotlib\n",
    "import matplotlib.pyplot as plt\n",
    "%matplotlib inline\n",
    "\n",
    "matplotlib.rcParams['figure.facecolor'] = '#ffffff'"
   ]
  },
  {
   "cell_type": "code",
   "execution_count": null,
   "id": "cff2afb7",
   "metadata": {},
   "outputs": [],
   "source": [
    "def show_example(img, label):\n",
    "    print('Label: ', dataset.classes[label], \"(\"+str(label)+\")\")\n",
    "    plt.imshow(img.permute(1, 2, 0))"
   ]
  },
  {
   "cell_type": "markdown",
   "id": "2f7dbd63",
   "metadata": {},
   "source": [
    "Let's look at a couple of images from the dataset. As you can tell, the 32x32px images are quite difficult to identify, even for the human eye. Try changing the indices below to view different images."
   ]
  },
  {
   "cell_type": "code",
   "execution_count": null,
   "id": "071f1ed0",
   "metadata": {},
   "outputs": [],
   "source": [
    "show_example(*dataset[123])"
   ]
  },
  {
   "cell_type": "code",
   "execution_count": null,
   "id": "5d962b17",
   "metadata": {},
   "outputs": [],
   "source": [
    "show_example(*dataset[4554])"
   ]
  },
  {
   "cell_type": "markdown",
   "id": "fda145b7",
   "metadata": {},
   "source": [
    "## Training and Validation Datasets\n",
    "\n",
    "While building real world machine learning models, it is quite common to split the dataset into 3 parts:\n",
    "\n",
    "1. **Training set** - used to train the model i.e. compute the loss and adjust the weights of the model using gradient descent.\n",
    "2. **Validation set** - used to evaluate the model while training, adjust hyperparameters (learning rate etc.) and pick the best version of the model.\n",
    "3. **Test set** - used to compare different models, or different types of modeling approaches, and report the final accuracy of the model.\n",
    "\n",
    "Since there's no predefined validation set, we can set aside a small portion (5000 images) of the training set to be used as the validation set. We'll use the `random_split` helper method from PyTorch to do this. To ensure that we always create the same validation set, we'll also set a seed for the random number generator."
   ]
  },
  {
   "cell_type": "code",
   "execution_count": null,
   "id": "7c493c37",
   "metadata": {},
   "outputs": [],
   "source": [
    "random_seed = 42\n",
    "torch.manual_seed(random_seed);"
   ]
  },
  {
   "cell_type": "code",
   "execution_count": null,
   "id": "3932d71c",
   "metadata": {},
   "outputs": [],
   "source": [
    "val_size = 500\n",
    "train_size = len(dataset) - val_size\n",
    "\n",
    "train_ds, val_ds = random_split(dataset, [train_size, val_size])\n",
    "len(train_ds), len(val_ds)"
   ]
  },
  {
   "cell_type": "markdown",
   "id": "2ae58f32",
   "metadata": {},
   "source": [
    "We can now create data loaders for training and validation, to load the data in batches."
   ]
  },
  {
   "cell_type": "code",
   "execution_count": null,
   "id": "2417d6c6",
   "metadata": {},
   "outputs": [],
   "source": [
    "from torch.utils.data.dataloader import DataLoader\n",
    "\n",
    "batch_size= 64"
   ]
  },
  {
   "cell_type": "code",
   "execution_count": null,
   "id": "957f6ce3",
   "metadata": {},
   "outputs": [],
   "source": [
    "'''generate dataloader of train and validation, named train_dl and val_dl respectively'''\n",
    "#################### START CODE ####################\n",
    "train_dl = DataLoader(train_ds, batch_size, shuffle=True, num_workers=2)\n",
    "val_dl = DataLoader(val_ds, batch_size*2, num_workers=2)\n",
    "##################### END CODE #####################"
   ]
  },
  {
   "cell_type": "markdown",
   "id": "808bdc66",
   "metadata": {},
   "source": [
    "We can look at batches of images from the dataset using the `make_grid` method from `torchvision`. Each time the following code is run, we get a different bach, since the sampler shuffles the indices before creating batches."
   ]
  },
  {
   "cell_type": "code",
   "execution_count": null,
   "id": "8de3f914",
   "metadata": {},
   "outputs": [],
   "source": [
    "from torchvision.utils import make_grid\n",
    "\n",
    "def show_batch(dl):\n",
    "    for images, labels in dl:\n",
    "        fig, ax = plt.subplots(figsize=(12, 6))\n",
    "        ax.set_xticks([]); ax.set_yticks([])\n",
    "        ax.imshow(make_grid(images, nrow=16).permute(1, 2, 0))\n",
    "        break"
   ]
  },
  {
   "cell_type": "code",
   "execution_count": null,
   "id": "3b05c6ad",
   "metadata": {},
   "outputs": [],
   "source": [
    "show_batch(train_dl)"
   ]
  },
  {
   "cell_type": "markdown",
   "id": "f48e76a0",
   "metadata": {},
   "source": [
    "## Defining the Model (Convolutional Neural Network)\n",
    "\n",
    "In this tutorial however, we will use a convolutional neural network, using the `nn.Conv2d` class from PyTorch.\n",
    "\n",
    "> The 2D convolution is a fairly simple operation at heart: you start with a kernel, which is simply a small matrix of weights. This kernel “slides” over the 2D input data, performing an elementwise multiplication with the part of the input it is currently on, and then summing up the results into a single output pixel. - [Source](https://towardsdatascience.com/intuitively-understanding-convolutions-for-deep-learning-1f6f42faee1)\n",
    "\n",
    "<img src=\"https://miro.medium.com/max/1070/1*Zx-ZMLKab7VOCQTxdZ1OAw.gif\" style=\"max-width:400px;\">\n",
    "\n",
    "\n",
    "Let us implement a convolution operation on a 1 channel image with a 3x3 kernel."
   ]
  },
  {
   "cell_type": "code",
   "execution_count": null,
   "id": "f6da7edb",
   "metadata": {},
   "outputs": [],
   "source": [
    "def apply_kernel(image, kernel):\n",
    "    '''write the function of apply_kernel'''\n",
    "    #################### START CODE ####################\n",
    "    # Calculate the dimensions of the image and the convolutional kernel.\n",
    "    image_height, image_width = image.shape\n",
    "    kernel_height, kernel_width = kernel.shape\n",
    "\n",
    "    # Calculate the dimensions of the output.\n",
    "    output_height = image_height - kernel_height + 1\n",
    "    output_width = image_width - kernel_width + 1\n",
    "\n",
    "    # Create an image filled with zeros that has the same dimensions as the output.\n",
    "    output = torch.zeros((output_height, output_width), dtype=torch.float32)\n",
    "    \n",
    "    for i in range(output.shape[0]):\n",
    "        for j in range(output.shape[1]):\n",
    "            output[i, j] = torch.sum(image[i:i + kernel_height, j:j + kernel_width] *\n",
    "                                     kernel)\n",
    "    return output\n",
    "    ##################### END CODE #####################"
   ]
  },
  {
   "cell_type": "code",
   "execution_count": null,
   "id": "e8eafd29",
   "metadata": {},
   "outputs": [],
   "source": [
    "sample_image = torch.tensor([\n",
    "    [3, 3, 2, 1, 0], \n",
    "    [0, 0, 1, 3, 1], \n",
    "    [3, 1, 2, 2, 3], \n",
    "    [2, 0, 0, 2, 2], \n",
    "    [2, 0, 0, 0, 1]\n",
    "], dtype=torch.float32)\n",
    "\n",
    "sample_kernel = torch.tensor([\n",
    "    [0, 1, 2], \n",
    "    [2, 2, 0], \n",
    "    [0, 1, 2]\n",
    "], dtype=torch.float32)\n",
    "\n",
    "apply_kernel(sample_image, sample_kernel)"
   ]
  },
  {
   "cell_type": "markdown",
   "id": "04e45258",
   "metadata": {},
   "source": [
    "For multi-channel images, a different kernel is applied to each channels, and the outputs are added together pixel-wise. \n",
    "\n",
    "There are certain advantages offered by convolutional layers when working with image data:\n",
    "\n",
    "* **Fewer parameters**: A small set of parameters (the kernel) is used to calculate outputs of the entire image, so the model has much fewer parameters compared to a fully connected layer. \n",
    "* **Sparsity of connections**: In each layer, each output element only depends on a small number of input elements, which makes the forward and backward passes more efficient.\n",
    "* **Parameter sharing and spatial invariance**: The features learned by a kernel in one part of the image can be used to detect similar pattern in a different part of another image.\n",
    "\n",
    "We will also use a [max-pooling](https://computersciencewiki.org/index.php/Max-pooling_/_Pooling) layers to progressively decrease the height & width of the output tensors from each convolutional layer.\n",
    "\n",
    "<img src=\"https://computersciencewiki.org/images/8/8a/MaxpoolSample2.png\" style=\"max-width:400px;\">\n",
    "\n",
    "Before we define the entire model, let's look at how a single convolutional layer followed by a max-pooling layer operates on the data."
   ]
  },
  {
   "cell_type": "code",
   "execution_count": null,
   "id": "3bc9b5d5",
   "metadata": {},
   "outputs": [],
   "source": [
    "import torch.nn as nn\n",
    "import torch.nn.functional as F"
   ]
  },
  {
   "cell_type": "code",
   "execution_count": null,
   "id": "7534ed57",
   "metadata": {},
   "outputs": [],
   "source": [
    "simple_model = nn.Sequential(\n",
    "    nn.Conv2d(3, 8, kernel_size=3, stride=1, padding=1),\n",
    "    nn.MaxPool2d(2, 2)\n",
    ")"
   ]
  },
  {
   "cell_type": "markdown",
   "id": "4e3e9250",
   "metadata": {},
   "source": [
    "Refer to [Sylvian's post](https://sgugger.github.io/convolution-in-depth.html) for an explanation of `kernel_size`, `stride` and `padding`."
   ]
  },
  {
   "cell_type": "code",
   "execution_count": null,
   "id": "49c07f09",
   "metadata": {},
   "outputs": [],
   "source": [
    "for images, labels in train_dl:\n",
    "    print('images.shape:', images.shape)\n",
    "    '''write the out value'''\n",
    "    #################### START CODE ####################\n",
    "    out = simple_model(images)\n",
    "    ##################### END CODE #####################\n",
    "    print('out.shape:', out.shape)\n",
    "    break"
   ]
  },
  {
   "cell_type": "markdown",
   "id": "1b2922e9",
   "metadata": {},
   "source": [
    "The `Conv2d` layer transforms a 3-channel image to a 16-channel *feature map*, and the `MaxPool2d` layer halves the height and width. The feature map gets smaller as we add more layers, until we are finally left with a small feature map, which can be flattened into a vector. We can then add some fully connected layers at the end to get vector of size 10 for each image.\n",
    "\n",
    "<img src=\"https://i.imgur.com/KKtPOKE.png\" style=\"max-width:540px\">\n",
    "\n",
    "Let's define the model by extending an `ImageClassificationBase` class which contains helper methods for training & validation."
   ]
  },
  {
   "cell_type": "code",
   "execution_count": null,
   "id": "99e9cf9d",
   "metadata": {},
   "outputs": [],
   "source": [
    "class ImageClassificationBase(nn.Module):\n",
    "    def training_step(self, batch):\n",
    "        images, labels = batch \n",
    "        '''write the generation of predictions and the entropy loss'''\n",
    "        #################### START CODE ####################\n",
    "        # Calculate the loss value using the loss function.失值\n",
    "        loss = F.cross_entropy(self(images), labels)\n",
    "        ##################### END CODE #####################\n",
    "        return loss\n",
    "    \n",
    "    def validation_step(self, batch):\n",
    "        images, labels = batch \n",
    "        '''write the generation of predictions and the entropy loss, and the accuracy'''\n",
    "        #################### START CODE ####################\n",
    "        # Generate the predicted results.\n",
    "        outputs = self(images)\n",
    "        # Calculate the loss value.\n",
    "        loss = F.cross_entropy(outputs, labels)\n",
    "        # Calculate the accuracy of the model's predictions.\n",
    "        acc = accuracy(outputs, labels)\n",
    "        ##################### END CODE #####################\n",
    "        return {'val_loss': loss.detach(), 'val_acc': acc}\n",
    "        \n",
    "    def validation_epoch_end(self, outputs):\n",
    "        batch_losses = [x['val_loss'] for x in outputs]\n",
    "        epoch_loss = torch.stack(batch_losses).mean()   # Combine losses\n",
    "        batch_accs = [x['val_acc'] for x in outputs]\n",
    "        epoch_acc = torch.stack(batch_accs).mean()      # Combine accuracies\n",
    "        return {'val_loss': epoch_loss.item(), 'val_acc': epoch_acc.item()}\n",
    "    \n",
    "    def epoch_end(self, epoch, result):\n",
    "        print(\"Epoch [{}], train_loss: {:.4f}, val_loss: {:.4f}, val_acc: {:.4f}\".format(\n",
    "            epoch, result['train_loss'], result['val_loss'], result['val_acc']))\n",
    "        \n",
    "def accuracy(outputs, labels):\n",
    "    '''write the function of accuracy'''\n",
    "    #################### START CODE ####################\n",
    "    _, preds = torch.max(outputs, dim=1)\n",
    "    return torch.tensor(torch.sum(preds == labels).item() / len(preds))\n",
    "    ##################### END CODE #####################"
   ]
  },
  {
   "cell_type": "markdown",
   "id": "250c57ca",
   "metadata": {},
   "source": [
    "We'll use `nn.Sequential` to chain the layers and activations functions into a single network architecture."
   ]
  },
  {
   "cell_type": "code",
   "execution_count": null,
   "id": "2be8c7e6",
   "metadata": {},
   "outputs": [],
   "source": [
    "class Cifar10CnnModel(ImageClassificationBase):\n",
    "    def __init__(self):\n",
    "        super().__init__()\n",
    "        '''Complete the architecture of CNN'''\n",
    "        self.network = nn.Sequential(\n",
    "            nn.Conv2d(3, 32, kernel_size=3, padding=1), #bs*16*16*16\n",
    "            nn.ReLU(),\n",
    "            nn.Conv2d(32, 64, kernel_size=3, stride=1, padding=1),\n",
    "            nn.ReLU(),\n",
    "            nn.MaxPool2d(2, 2), # output: 64 x 16 x 16\n",
    "\n",
    "            nn.Conv2d(64, 128, kernel_size=3, stride=1, padding=1),\n",
    "            nn.ReLU(),\n",
    "            nn.Conv2d(128, 128, kernel_size=3, stride=1, padding=1),\n",
    "            nn.ReLU(),\n",
    "            nn.MaxPool2d(2, 2), # output: 128 x 8 x 8\n",
    "\n",
    "            nn.Conv2d(128, 256, kernel_size=3, stride=1, padding=1),\n",
    "            nn.ReLU(),\n",
    "            nn.Conv2d(256, 256, kernel_size=3, stride=1, padding=1),\n",
    "            nn.ReLU(),\n",
    "            nn.MaxPool2d(2, 2), # output: 256 x 4 x 4\n",
    "\n",
    "            nn.Flatten(), \n",
    "            #################### START CODE ####################\n",
    "            nn.Linear(256 * 4 * 4, 1024),\n",
    "            ##################### END CODE #####################\n",
    "            nn.ReLU(),\n",
    "            nn.Dropout(0.5), \n",
    "            nn.Linear(1024, 512),\n",
    "            nn.ReLU(),\n",
    "            #################### START CODE ####################\n",
    "            # Add a Dropout layer.\n",
    "            nn.Dropout(0.5),  \n",
    "            # The final output layer should have ten neurons since CIFAR-10 has ten classes.\n",
    "            nn.Linear(512, 10)  \n",
    "        )\n",
    "            ##################### END CODE #####################\n",
    "        \n",
    "    def forward(self, xb):\n",
    "        return self.network(xb)"
   ]
  },
  {
   "cell_type": "code",
   "execution_count": null,
   "id": "13a8faa0",
   "metadata": {},
   "outputs": [],
   "source": [
    "model = Cifar10CnnModel()\n",
    "model"
   ]
  },
  {
   "cell_type": "markdown",
   "id": "208ff4c9",
   "metadata": {},
   "source": [
    "Let's verify that the model produces the expected output on a batch of training data. The 10 outputs for each image can be interpreted as probabilities for the 10 target classes (after applying softmax), and the class with the highest probability is chosen as the label predicted by the model for the input image."
   ]
  },
  {
   "cell_type": "code",
   "execution_count": null,
   "id": "e1beae5b",
   "metadata": {},
   "outputs": [],
   "source": [
    "for images, labels in train_dl:\n",
    "    print('images.shape:', images.shape)\n",
    "    out = model(images)\n",
    "    print('out.shape:', out.shape)\n",
    "    print('out[0]:', out[0])\n",
    "    print(\"MAX\",torch.max(out[0]))\n",
    "    print(dataset.classes)\n",
    "    show_example(images[0],labels[0])\n",
    "    break"
   ]
  },
  {
   "cell_type": "markdown",
   "id": "e541daa0",
   "metadata": {},
   "source": [
    "To seamlessly use a GPU, if one is available, we define a couple of helper functions (`get_default_device` & `to_device`) and a helper class `DeviceDataLoader` to move our model & data to the GPU as required. These are described in more detail in the [previous tutorial](https://jovian.ml/aakashns/04-feedforward-nn#C21)."
   ]
  },
  {
   "cell_type": "code",
   "execution_count": null,
   "id": "e59ac9f2",
   "metadata": {},
   "outputs": [],
   "source": [
    "def get_default_device():\n",
    "    \"\"\"Pick GPU if available, else CPU\"\"\"\n",
    "    if torch.cuda.is_available():\n",
    "        return torch.device('cuda')\n",
    "    else:\n",
    "        return torch.device('cpu')\n",
    "    \n",
    "def to_device(data, device):\n",
    "    \"\"\"Move tensor(s) to chosen device\"\"\"\n",
    "    if isinstance(data, (list,tuple)):\n",
    "        return [to_device(x, device) for x in data]\n",
    "    return data.to(device, non_blocking=True)\n",
    "\n",
    "class DeviceDataLoader():\n",
    "    \"\"\"Wrap a dataloader to move data to a device\"\"\"\n",
    "    def __init__(self, dl, device):\n",
    "        self.dl = dl\n",
    "        self.device = device\n",
    "        \n",
    "    def __iter__(self):\n",
    "        \"\"\"Yield a batch of data after moving it to device\"\"\"\n",
    "        for b in self.dl: \n",
    "            yield to_device(b, self.device)\n",
    "\n",
    "    def __len__(self):\n",
    "        \"\"\"Number of batches\"\"\"\n",
    "        return len(self.dl)"
   ]
  },
  {
   "cell_type": "markdown",
   "id": "8ccacfa2",
   "metadata": {},
   "source": [
    "Based on where you're running this notebook, your default device could be a CPU (`torch.device('cpu')`) or a GPU (`torch.device('cuda')`)"
   ]
  },
  {
   "cell_type": "code",
   "execution_count": null,
   "id": "1b842fea",
   "metadata": {},
   "outputs": [],
   "source": [
    "device = get_default_device()\n",
    "device"
   ]
  },
  {
   "cell_type": "markdown",
   "id": "6a506125",
   "metadata": {},
   "source": [
    "We can now wrap our training and validation data loaders using `DeviceDataLoader` for automatically transferring batches of data to the GPU (if available), and use `to_device` to move our model to the GPU (if available)."
   ]
  },
  {
   "cell_type": "code",
   "execution_count": null,
   "id": "06cd4852",
   "metadata": {},
   "outputs": [],
   "source": [
    "train_dl = DeviceDataLoader(train_dl, device)\n",
    "val_dl = DeviceDataLoader(val_dl, device)\n",
    "to_device(model, device);"
   ]
  },
  {
   "cell_type": "markdown",
   "id": "eccfeae1",
   "metadata": {},
   "source": [
    "## Training the Model\n",
    "\n",
    "We'll define two functions: `fit` and `evaluate` to train the model using gradient descent and evaluate its performance on the validation set. "
   ]
  },
  {
   "cell_type": "code",
   "execution_count": null,
   "id": "80c4a9ad",
   "metadata": {},
   "outputs": [],
   "source": [
    "@torch.no_grad()\n",
    "def evaluate(model, val_loader):\n",
    "    model.eval()\n",
    "    outputs = [model.validation_step(batch) for batch in val_loader]\n",
    "    return model.validation_epoch_end(outputs)\n",
    "\n",
    "def fit(epochs, lr, model, train_loader, val_loader, opt_func=torch.optim.SGD):\n",
    "    history = []\n",
    "    optimizer = opt_func(model.parameters(), lr)\n",
    "    for epoch in range(epochs):\n",
    "        # Training Phase \n",
    "        model.train()\n",
    "        train_losses = []\n",
    "        for batch in train_loader:\n",
    "            '''Calculate the loss, and complete the train_losses'''\n",
    "            #################### START CODE ####################\n",
    "            loss = model.training_step(batch)\n",
    "            train_losses.append(loss)\n",
    "            ##################### END CODE #####################\n",
    "            loss.backward()\n",
    "            optimizer.step()\n",
    "            optimizer.zero_grad()\n",
    "        # Validation phase\n",
    "        result = evaluate(model, val_loader)\n",
    "        result['train_loss'] = torch.stack(train_losses).mean().item()\n",
    "        model.epoch_end(epoch, result)\n",
    "        history.append(result)\n",
    "    return history"
   ]
  },
  {
   "cell_type": "markdown",
   "id": "6dbfcfb8",
   "metadata": {},
   "source": [
    "Before we begin training, let's instantiate the model once again and see how it performs on the validation set with the initial set of parameters."
   ]
  },
  {
   "cell_type": "code",
   "execution_count": null,
   "id": "bbf90147",
   "metadata": {},
   "outputs": [],
   "source": [
    "model = to_device(Cifar10CnnModel(), device)"
   ]
  },
  {
   "cell_type": "code",
   "execution_count": null,
   "id": "ebba87ae",
   "metadata": {},
   "outputs": [],
   "source": [
    "'''Set the num_epochs, lr and opt_func'''\n",
    "#################### START CODE ####################\n",
    "num_epochs = 30\n",
    "lr = 0.0005\n",
    "##################### END CODE #####################\n",
    "# opt_func = torch.optim.SGD\n",
    "opt_func = torch.optim.Adam\n",
    "# opt_func = torch.optim.Adagrad"
   ]
  },
  {
   "cell_type": "code",
   "execution_count": null,
   "id": "0b68103c",
   "metadata": {},
   "outputs": [],
   "source": [
    "history = fit(num_epochs, lr, model, train_dl, val_dl, opt_func)"
   ]
  },
  {
   "cell_type": "markdown",
   "id": "93eb4b0d",
   "metadata": {},
   "source": [
    "We can plot the valdation set accuracies to study how the model improves over time."
   ]
  },
  {
   "cell_type": "code",
   "execution_count": null,
   "id": "5e9a14b7",
   "metadata": {},
   "outputs": [],
   "source": [
    "def plot_accuracies(history):\n",
    "    accuracies = [x['val_acc'] for x in history]\n",
    "    '''plot the accuracy'''\n",
    "    #################### START CODE ####################\n",
    "    plt.plot(accuracies)\n",
    "    plt.xlabel('epoch')\n",
    "    plt.ylabel('accuracy')\n",
    "    plt.title('Accuracy vs. Epoch')\n",
    "    ##################### END CODE #####################"
   ]
  },
  {
   "cell_type": "code",
   "execution_count": null,
   "id": "8490c2a3",
   "metadata": {},
   "outputs": [],
   "source": [
    "plot_accuracies(history)"
   ]
  },
  {
   "cell_type": "markdown",
   "id": "f240c9f8",
   "metadata": {},
   "source": [
    "Our model reaches an accuracy of above 55%. This suggests that we might need to use a more powerful model to capture the relationship between the images and the labels more accurately. This can be done by adding more convolutional layers to our model, or incrasing the no. of channels in each convolutional layer, or by using regularization techniques.\n",
    "\n",
    "We can also plot the training and validation losses to study the trend."
   ]
  },
  {
   "cell_type": "code",
   "execution_count": null,
   "id": "bbd1c4fd",
   "metadata": {},
   "outputs": [],
   "source": [
    "def plot_losses(history):\n",
    "    '''plot the train_losses and val_losses'''\n",
    "    #################### START CODE ####################\n",
    "    train_losses = [x['train_loss'] for x in history]\n",
    "    val_losses = [x['val_loss'] for x in history]\n",
    "    \n",
    "    plt.plot(train_losses)\n",
    "    plt.plot(val_losses)\n",
    "    plt.xlabel('epoch')\n",
    "    plt.ylabel('Loss')\n",
    "    plt.title('Loss vs. Epoch')\n",
    "    plt.legend()\n",
    "    \n",
    "    plt.show()\n",
    "    ##################### END CODE #####################"
   ]
  },
  {
   "cell_type": "code",
   "execution_count": null,
   "id": "02acb1b1",
   "metadata": {},
   "outputs": [],
   "source": [
    "plot_losses(history)\n"
   ]
  },
  {
   "cell_type": "markdown",
   "id": "a26cb42f",
   "metadata": {},
   "source": [
    "Initialy, both the training and validation losses seem to decrease over time. However, if you train the model for long enough, you will notice that the training loss continues to decrease, while the validation loss stops decreasing, and even starts to increase after a certain point! \n",
    "\n",
    "<img src=\"https://i.stack.imgur.com/1QU0m.png\" style=\"max-width:400px;\">\n",
    "\n",
    "This phenomenon is called **overfitting**, and it is the no. 1 why many machine learning models give rather terrible results on real-world data. It happens because the model, in an attempt to minimize the loss, starts to learn patters are are unique to the training data, sometimes even memorizing specific training examples. Because of this, the model does not generalize well to previously unseen data.\n",
    "\n",
    "\n",
    "Following are some common stragegies for avoiding overfitting:\n",
    "\n",
    "- Gathering and generating more training data, or adding noise to it\n",
    "- Using regularization techniques like batch normalization & dropout\n",
    "- Early stopping of model's training, when validation loss starts to increase"
   ]
  },
  {
   "cell_type": "markdown",
   "id": "3eb4e237",
   "metadata": {},
   "source": [
    "## Testing with individual images\n",
    "\n",
    "While we have been tracking the overall accuracy of a model so far, it's also a good idea to look at model's results on some sample images. Let's test out our model with some images from the predefined test dataset of 10000 images. We begin by creating a test dataset using the `ImageFolder` class.\n",
    "\n",
    "Let's define a helper function `predict_image`, which returns the predicted label for a single image tensor."
   ]
  },
  {
   "cell_type": "code",
   "execution_count": null,
   "id": "d945809c",
   "metadata": {},
   "outputs": [],
   "source": [
    "def predict_image(img, model):\n",
    "    # Convert to a batch of 1\n",
    "    xb = to_device(img.unsqueeze(0), device)\n",
    "    '''get predictions from model and pick index with highest probability'''\n",
    "    #################### START CODE ####################\n",
    "    yb = model(xb)\n",
    "    # Ensure that gradients are not calculated.\n",
    "    _, preds  = torch.max(yb, dim=1)\n",
    "    ##################### END CODE #####################\n",
    "    return dataset.classes[preds[0].item()]"
   ]
  },
  {
   "cell_type": "code",
   "execution_count": null,
   "id": "e0871742",
   "metadata": {},
   "outputs": [],
   "source": [
    "img, label = val_ds[0]\n",
    "plt.imshow(img.permute(1, 2, 0))\n",
    "print('Label:', dataset.classes[label], ', Predicted:', predict_image(img, model))"
   ]
  },
  {
   "cell_type": "code",
   "execution_count": null,
   "id": "1fe8f0d2",
   "metadata": {},
   "outputs": [],
   "source": [
    "img, label = val_ds[1]\n",
    "plt.imshow(img.permute(1, 2, 0))\n",
    "print('Predicted:', predict_image(img, model))"
   ]
  },
  {
   "cell_type": "code",
   "execution_count": null,
   "id": "7be27e18",
   "metadata": {},
   "outputs": [],
   "source": [
    "img, label = val_ds[2]\n",
    "plt.imshow(img.permute(1, 2, 0))\n",
    "print('Predicted:', predict_image(img, model))"
   ]
  },
  {
   "cell_type": "code",
   "execution_count": null,
   "id": "18c60fcb",
   "metadata": {},
   "outputs": [],
   "source": [
    "img, label = val_ds[3]\n",
    "plt.imshow(img.permute(1, 2, 0))\n",
    "print('Predicted:', predict_image(img, model))"
   ]
  },
  {
   "cell_type": "code",
   "execution_count": null,
   "id": "33631029",
   "metadata": {},
   "outputs": [],
   "source": [
    "test_dataset = ImageFolder(data_dir+'/test', transform=ToTensor())"
   ]
  },
  {
   "cell_type": "markdown",
   "id": "89667229",
   "metadata": {},
   "source": [
    "Identifying where our model performs poorly can help us improve the model, by collecting more training data, increasing/decreasing the complexity of the model, and changing the hypeparameters.\n",
    "\n",
    "As a final step, let's also look at the overall loss and accuracy of the model on the test set. We expect these values to be similar to those for the validation set. If not, we might need a better validation set that has similar data and distribution as the test set (which often comes from real world data)."
   ]
  },
  {
   "cell_type": "code",
   "execution_count": null,
   "id": "5933b5d3",
   "metadata": {},
   "outputs": [],
   "source": [
    "@torch.no_grad()\n",
    "def output_step(model, batch):\n",
    "    '''write the function of output_step'''\n",
    "    #################### START CODE ####################\n",
    "    model.eval()\n",
    "    images, _ = batch\n",
    "    out = model(images)\n",
    "    _, preds = torch.max(out, dim=1)\n",
    "    return preds\n",
    "    ##################### END CODE #####################"
   ]
  },
  {
   "cell_type": "code",
   "execution_count": null,
   "id": "cea3f7d7",
   "metadata": {},
   "outputs": [],
   "source": [
    "test_loader = DeviceDataLoader(DataLoader(test_dataset, batch_size*2), device)\n",
    "outputs=[]\n",
    "for batch in test_loader:\n",
    "    outputs.extend(output_step(model,batch).cpu().numpy())\n",
    "\n",
    "print(outputs)"
   ]
  },
  {
   "cell_type": "markdown",
   "id": "2283a09d",
   "metadata": {},
   "source": [
    "Save the test_target."
   ]
  },
  {
   "cell_type": "code",
   "execution_count": null,
   "id": "415ca1e8",
   "metadata": {},
   "outputs": [],
   "source": [
    "with open(\"test_target.csv\", \"w\", newline='') as csvfile:\n",
    "    for i in outputs:\n",
    "        csvfile.write(str(i))\n",
    "        csvfile.write('\\n')"
   ]
  },
  {
   "cell_type": "markdown",
   "id": "44568958",
   "metadata": {},
   "source": [
    "## Saving and loading the model\n",
    "\n",
    "Since we've trained our model for a long time and achieved a resonable accuracy, it would be a good idea to save the weights of the model to disk, so that we can reuse the model later and avoid retraining from scratch. Here's how you can save the model."
   ]
  },
  {
   "cell_type": "code",
   "execution_count": null,
   "id": "dd758dee",
   "metadata": {},
   "outputs": [],
   "source": [
    "torch.save(model.state_dict(), 'cifar10-cnn.pth')"
   ]
  },
  {
   "cell_type": "markdown",
   "id": "235d54ae",
   "metadata": {},
   "source": [
    "## Summary and Further Reading/Exercises\n",
    "\n",
    "We've covered a lot of ground in this tutorial. Here's quick recap of the topics:\n",
    "* Introduction to the CIFAR10 dataset for image classification\n",
    "* Downloading, extracing and loading an image dataset using `torchvision`\n",
    "* Show random batches of images in a grid using `torchvision.utils.make_grid`\n",
    "* Creating a convolutional neural network using with `nn.Conv2d` and `nn.MaxPool2d` layers\n",
    "* Training a convolutional neural network and visualizing the losses and errors\n",
    "* Understanding overfitting and the strategies for avoiding it (more on this later)\n",
    "* Generating predictions on single images from the test set"
   ]
  },
  {
   "cell_type": "code",
   "execution_count": null,
   "id": "a2770526",
   "metadata": {},
   "outputs": [],
   "source": []
  }
 ],
 "metadata": {
  "kernelspec": {
   "display_name": "Python 3",
   "language": "python",
   "name": "python3"
  },
  "language_info": {
   "codemirror_mode": {
    "name": "ipython",
    "version": 3
   },
   "file_extension": ".py",
   "mimetype": "text/x-python",
   "name": "python",
   "nbconvert_exporter": "python",
   "pygments_lexer": "ipython3",
   "version": "3.11.5"
  }
 },
 "nbformat": 4,
 "nbformat_minor": 5
}
